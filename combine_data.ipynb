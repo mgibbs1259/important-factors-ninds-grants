{
 "cells": [
  {
   "cell_type": "code",
   "execution_count": null,
   "metadata": {
    "collapsed": true
   },
   "outputs": [],
   "source": [
    "import glob\n",
    "import pandas as pd"
   ]
  },
  {
   "cell_type": "markdown",
   "metadata": {},
   "source": [
    "## combine ninds data"
   ]
  },
  {
   "cell_type": "code",
   "execution_count": null,
   "metadata": {
    "collapsed": true
   },
   "outputs": [],
   "source": [
    "# Function to combine ninds data\n",
    "def combine_ninds_data(file_prefix):\n",
    "    df_1 = pd.DataFrame()\n",
    "    filenames = glob.glob(f'data/ninds_data/{file_prefix}*')\n",
    "    for file in filenames:\n",
    "        df_2 = pd.read_csv(file, encoding='cp1252')\n",
    "        df_1 = df_1.append(df_2)\n",
    "    return df_1"
   ]
  },
  {
   "cell_type": "code",
   "execution_count": null,
   "metadata": {
    "collapsed": true
   },
   "outputs": [],
   "source": [
    "# Combine ninds data\n",
    "ninds = combine_ninds_data('ninds')\n",
    "ninds.to_csv('data/combined_data/ninds_no_scopus_idx.csv')"
   ]
  },
  {
   "cell_type": "markdown",
   "metadata": {},
   "source": [
    "## combine scopus data"
   ]
  },
  {
   "cell_type": "code",
   "execution_count": null,
   "metadata": {
    "collapsed": true
   },
   "outputs": [],
   "source": [
    "# Function to combine scopus data\n",
    "def combine_scopus_data(file_prefix):\n",
    "    df_1 = pd.DataFrame()\n",
    "    filenames = glob.glob(f'data/scopus_data/{file_prefix}*')\n",
    "    for file in filenames:\n",
    "        df_2 = pd.read_csv(file, header=0)\n",
    "        df_2 = df_2.reset_index()\n",
    "        df_1 = df_1.append(df_2)\n",
    "    return df_1"
   ]
  },
  {
   "cell_type": "code",
   "execution_count": null,
   "metadata": {
    "collapsed": true
   },
   "outputs": [],
   "source": [
    "# Combine affiliations\n",
    "aff = combine_scopus_data('affiliations')\n",
    "aff.to_csv('data/combined_data/affiliations.csv')"
   ]
  },
  {
   "cell_type": "code",
   "execution_count": null,
   "metadata": {
    "collapsed": true
   },
   "outputs": [],
   "source": [
    "# Combine coauthors\n",
    "coauth = combine_scopus_data('coauthors')\n",
    "coauth.to_csv('data/combined_data/coauthors.csv')"
   ]
  },
  {
   "cell_type": "code",
   "execution_count": null,
   "metadata": {
    "collapsed": true
   },
   "outputs": [],
   "source": [
    "# Combine journals\n",
    "jour = combine_scopus_data('journals')\n",
    "jour.to_csv('data/combined_data/journals.csv')"
   ]
  },
  {
   "cell_type": "code",
   "execution_count": null,
   "metadata": {
    "collapsed": true
   },
   "outputs": [],
   "source": [
    "# Combine scopus\n",
    "scopus = combine_scopus_data('scopus')\n",
    "scopus.to_csv('data/combined_data/scopus.csv')"
   ]
  }
 ],
 "metadata": {
  "kernelspec": {
   "display_name": "Python 3",
   "language": "python",
   "name": "python3"
  },
  "language_info": {
   "codemirror_mode": {
    "name": "ipython",
    "version": 3
   },
   "file_extension": ".py",
   "mimetype": "text/x-python",
   "name": "python",
   "nbconvert_exporter": "python",
   "pygments_lexer": "ipython3",
   "version": "3.6.8"
  }
 },
 "nbformat": 4,
 "nbformat_minor": 2
}
