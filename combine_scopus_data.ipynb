{
 "cells": [
  {
   "cell_type": "code",
<<<<<<< HEAD
   "execution_count": 5,
   "metadata": {
    "collapsed": true
   },
=======
   "execution_count": 1,
   "metadata": {},
>>>>>>> 3cb21bb13ce43f8bc51d395c5557c2d1852bbb76
   "outputs": [],
   "source": [
    "import os\n",
    "import glob\n",
    "import pandas as pd"
   ]
  },
  {
   "cell_type": "code",
<<<<<<< HEAD
   "execution_count": 6,
   "metadata": {},
   "outputs": [
    {
     "data": {
      "text/plain": [
       "'/Users/mgibbs/Documents/ML1-Final-Project'"
      ]
     },
     "execution_count": 6,
     "metadata": {},
     "output_type": "execute_result"
    }
   ],
=======
   "execution_count": null,
   "metadata": {},
   "outputs": [],
>>>>>>> 3cb21bb13ce43f8bc51d395c5557c2d1852bbb76
   "source": [
    "# Get current working directory\n",
    "os.getcwd()"
   ]
  },
  {
   "cell_type": "code",
<<<<<<< HEAD
   "execution_count": 7,
   "metadata": {
    "collapsed": true
   },
=======
   "execution_count": 2,
   "metadata": {},
>>>>>>> 3cb21bb13ce43f8bc51d395c5557c2d1852bbb76
   "outputs": [],
   "source": [
    "# Function to combine scopus data\n",
    "def combine_scopus_data(file_prefix):\n",
    "    df_1 = pd.DataFrame()\n",
<<<<<<< HEAD
    "    filenames = glob.glob(f\"data/{file_prefix}*\")\n",
=======
    "    filenames = glob.glob(f\"/mnt/labbook/input/scopus_data/{file_prefix}*\")\n",
>>>>>>> 3cb21bb13ce43f8bc51d395c5557c2d1852bbb76
    "    for file in filenames:\n",
    "        df_2 = pd.read_csv(file, index_col=0, header=None)\n",
    "        df_1 = df_1.append(df_2)\n",
    "    return df_1"
   ]
  },
  {
   "cell_type": "code",
<<<<<<< HEAD
   "execution_count": 8,
   "metadata": {},
   "outputs": [
    {
     "name": "stderr",
     "output_type": "stream",
     "text": [
      "/Users/mgibbs/anaconda3/lib/python3.6/site-packages/IPython/core/interactiveshell.py:2802: DtypeWarning: Columns (2,5,9) have mixed types. Specify dtype option on import or set low_memory=False.\n",
      "  if self.run_code(code, result):\n"
     ]
    }
   ],
   "source": [
    "# Combine affiliations\n",
    "affiliations = combine_scopus_data(\"affiliations\")\n",
    "affiliations.to_csv(\"data/affiliations.csv\")"
=======
   "execution_count": null,
   "metadata": {},
   "outputs": [],
   "source": [
    "# Combine affiliations\n",
    "affiliations = combine_scopus_data(\"affiliations\")\n",
    "affiliations.to_csv(\"/mnt/labbook/input/affiliations.csv\")"
>>>>>>> 3cb21bb13ce43f8bc51d395c5557c2d1852bbb76
   ]
  },
  {
   "cell_type": "code",
<<<<<<< HEAD
   "execution_count": 9,
   "metadata": {},
   "outputs": [
    {
     "name": "stderr",
     "output_type": "stream",
     "text": [
      "/Users/mgibbs/anaconda3/lib/python3.6/site-packages/IPython/core/interactiveshell.py:2802: DtypeWarning: Columns (10) have mixed types. Specify dtype option on import or set low_memory=False.\n",
      "  if self.run_code(code, result):\n",
      "/Users/mgibbs/anaconda3/lib/python3.6/site-packages/numpy/lib/arraysetops.py:472: FutureWarning: elementwise comparison failed; returning scalar instead, but in the future will perform elementwise comparison\n",
      "  mask |= (ar1 == a)\n"
     ]
    }
   ],
   "source": [
    "# Combine coauthors\n",
    "coauthors = combine_scopus_data(\"coauthors\")\n",
    "coauthors.to_csv(\"data/coauthors.csv\")"
=======
   "execution_count": null,
   "metadata": {},
   "outputs": [],
   "source": [
    "# Combine coauthors\n",
    "coauthors = combine_scopus_data(\"coauthors\")\n",
    "coauthors.to_csv(\"/mnt/labbook/input/coauthors.csv\")"
>>>>>>> 3cb21bb13ce43f8bc51d395c5557c2d1852bbb76
   ]
  },
  {
   "cell_type": "code",
<<<<<<< HEAD
   "execution_count": 10,
=======
   "execution_count": 3,
>>>>>>> 3cb21bb13ce43f8bc51d395c5557c2d1852bbb76
   "metadata": {},
   "outputs": [
    {
     "name": "stderr",
     "output_type": "stream",
     "text": [
<<<<<<< HEAD
      "/Users/mgibbs/anaconda3/lib/python3.6/site-packages/IPython/core/interactiveshell.py:2802: DtypeWarning: Columns (4,12,20,29,30) have mixed types. Specify dtype option on import or set low_memory=False.\n",
      "  if self.run_code(code, result):\n",
      "/Users/mgibbs/anaconda3/lib/python3.6/site-packages/IPython/core/interactiveshell.py:2802: DtypeWarning: Columns (1,4,5,12,13,20,21,29,30,31,35) have mixed types. Specify dtype option on import or set low_memory=False.\n",
      "  if self.run_code(code, result):\n",
      "/Users/mgibbs/anaconda3/lib/python3.6/site-packages/numpy/lib/arraysetops.py:472: FutureWarning: elementwise comparison failed; returning scalar instead, but in the future will perform elementwise comparison\n",
      "  mask |= (ar1 == a)\n"
=======
      "/opt/conda/lib/python3.7/site-packages/IPython/core/interactiveshell.py:3185: DtypeWarning: Columns (4,12,20,29,30) have mixed types. Specify dtype option on import or set low_memory=False.\n",
      "  if (yield from self.run_code(code, result)):\n",
      "/opt/conda/lib/python3.7/site-packages/IPython/core/interactiveshell.py:3185: DtypeWarning: Columns (4,12,20,30) have mixed types. Specify dtype option on import or set low_memory=False.\n",
      "  if (yield from self.run_code(code, result)):\n",
      "/opt/conda/lib/python3.7/site-packages/IPython/core/interactiveshell.py:3185: DtypeWarning: Columns (1,5,13,21,30,31) have mixed types. Specify dtype option on import or set low_memory=False.\n",
      "  if (yield from self.run_code(code, result)):\n"
>>>>>>> 3cb21bb13ce43f8bc51d395c5557c2d1852bbb76
     ]
    }
   ],
   "source": [
    "# Combine journals\n",
    "journals = combine_scopus_data(\"journals\")\n",
<<<<<<< HEAD
    "journals.to_csv(\"data/journals.csv\")"
=======
    "journals.to_csv(\"/mnt/labbook/input/journals.csv\")"
>>>>>>> 3cb21bb13ce43f8bc51d395c5557c2d1852bbb76
   ]
  },
  {
   "cell_type": "code",
<<<<<<< HEAD
   "execution_count": 11,
   "metadata": {
    "collapsed": true
   },
=======
   "execution_count": null,
   "metadata": {},
>>>>>>> 3cb21bb13ce43f8bc51d395c5557c2d1852bbb76
   "outputs": [],
   "source": [
    "# Combine scopus\n",
    "scopus = combine_scopus_data(\"scopus\")\n",
<<<<<<< HEAD
    "scopus.to_csv(\"data/scopus.csv\")"
=======
    "scopus.to_csv(\"/mnt/labbook/input/scopus.csv\")"
>>>>>>> 3cb21bb13ce43f8bc51d395c5557c2d1852bbb76
   ]
  }
 ],
 "metadata": {
  "kernelspec": {
   "display_name": "Python 3",
   "language": "python",
   "name": "python3"
  },
  "language_info": {
   "codemirror_mode": {
    "name": "ipython",
    "version": 3
   },
   "file_extension": ".py",
   "mimetype": "text/x-python",
   "name": "python",
   "nbconvert_exporter": "python",
   "pygments_lexer": "ipython3",
<<<<<<< HEAD
   "version": "3.6.8"
=======
   "version": "3.7.2"
>>>>>>> 3cb21bb13ce43f8bc51d395c5557c2d1852bbb76
  }
 },
 "nbformat": 4,
 "nbformat_minor": 2
}
