{
 "cells": [
  {
   "cell_type": "code",
   "execution_count": 1,
   "metadata": {},
   "outputs": [],
   "source": [
    "import os\n",
    "import pandas as pd\n",
    "import numpy as np"
   ]
  },
  {
   "cell_type": "code",
   "execution_count": 10,
   "metadata": {},
   "outputs": [
    {
     "data": {
      "text/plain": [
       "'/mnt/labbook/code'"
      ]
     },
     "execution_count": 10,
     "metadata": {},
     "output_type": "execute_result"
    }
   ],
   "source": [
    "# Get current working directory\n",
    "os.getcwd()"
   ]
  },
  {
   "cell_type": "code",
   "execution_count": 11,
   "metadata": {},
   "outputs": [
    {
     "name": "stderr",
     "output_type": "stream",
     "text": [
      "/opt/conda/lib/python3.7/site-packages/IPython/core/interactiveshell.py:3020: DtypeWarning: Columns (1,4,8) have mixed types. Specify dtype option on import or set low_memory=False.\n",
      "  interactivity=interactivity, compiler=compiler, result=result)\n"
     ]
    }
   ],
   "source": [
    "# Get affiliations\n",
    "aff = pd.read_csv(\"/mnt/labbook/input/data/affiliations.csv\", index_col=0, header=1)"
   ]
  },
  {
   "cell_type": "code",
   "execution_count": 12,
   "metadata": {},
   "outputs": [],
   "source": [
    "# Reset index\n",
    "aff = aff.reset_index(drop=True)\n",
    "# Drop Unnamed: 8 \n",
    "aff = aff.drop('Unnamed: 8', axis=1)"
   ]
  },
  {
   "cell_type": "code",
   "execution_count": 13,
   "metadata": {},
   "outputs": [],
   "source": [
    "# Rename columns\n",
    "aff = aff.rename(columns={'scopus idx': 'scopus_idx'})\n",
    "# Reorganize columns \n",
    "aff = aff[['aff_name','aff_city','aff_state', 'aff_country', 'aff_author_count', 'aff_document_count', 'scopus_idx']]"
   ]
  },
  {
   "cell_type": "code",
   "execution_count": 14,
   "metadata": {},
   "outputs": [],
   "source": [
    "# Out clean affiliations as csv\n",
    "aff.to_csv(\"/mnt/labbook/input/clean_affiliations.csv\")"
   ]
  },
  {
   "cell_type": "code",
   "execution_count": 15,
   "metadata": {},
   "outputs": [
    {
     "name": "stderr",
     "output_type": "stream",
     "text": [
      "/opt/conda/lib/python3.7/site-packages/IPython/core/interactiveshell.py:3020: DtypeWarning: Columns (10) have mixed types. Specify dtype option on import or set low_memory=False.\n",
      "  interactivity=interactivity, compiler=compiler, result=result)\n"
     ]
    }
   ],
   "source": [
    "# Get coauthors\n",
    "coauth = pd.read_csv(\"/mnt/labbook/input/data/coauthors.csv\", index_col=0, header=1)"
   ]
  },
  {
   "cell_type": "code",
   "execution_count": 16,
   "metadata": {},
   "outputs": [],
   "source": [
    "# Reset index\n",
    "coauth = coauth.reset_index(drop=True)\n",
    "# Drop Unnamed: 8 \n",
    "coauth = coauth.drop('Unnamed: 10', axis=1)"
   ]
  },
  {
   "cell_type": "code",
   "execution_count": 17,
   "metadata": {},
   "outputs": [],
   "source": [
    "# Rename columns\n",
    "coauth = coauth.rename(columns={'given_name': 'first_middle', 'surname': 'last', 'name': 'aff_name', 'city': 'aff_city', 'country': 'aff_country'})\n",
    "# Reorganize columns, dropping affiliation_id and id\n",
    "coauth = coauth[['first_middle', 'last', 'aff_name', 'aff_city', 'aff_country', 'areas', 'scopus_idx']]"
   ]
  },
  {
   "cell_type": "code",
   "execution_count": 18,
   "metadata": {},
   "outputs": [],
   "source": [
    "# Out clean coauthors as csv\n",
    "coauth.to_csv(\"/mnt/labbook/input/clean_coauthors.csv\")"
   ]
  },
  {
   "cell_type": "code",
   "execution_count": 2,
   "metadata": {},
   "outputs": [
    {
     "name": "stderr",
     "output_type": "stream",
     "text": [
      "/opt/conda/lib/python3.7/site-packages/IPython/core/interactiveshell.py:3020: DtypeWarning: Columns (1,4,5,12,13,20,21,29,30,31,35) have mixed types. Specify dtype option on import or set low_memory=False.\n",
      "  interactivity=interactivity, compiler=compiler, result=result)\n",
      "/opt/conda/lib/python3.7/site-packages/numpy/lib/arraysetops.py:569: FutureWarning: elementwise comparison failed; returning scalar instead, but in the future will perform elementwise comparison\n",
      "  mask |= (ar1 == a)\n"
     ]
    }
   ],
   "source": [
    "# Get journals \n",
    "jour = pd.read_csv(\"/mnt/labbook/input/data/journals.csv\", index_col=0, header=1)"
   ]
  },
  {
   "cell_type": "code",
   "execution_count": 3,
   "metadata": {},
   "outputs": [],
   "source": [
    "# Reset index\n",
    "jour = jour.reset_index(drop=True)\n",
    "# Drop Unnamed: 35\n",
    "jour = jour.drop('Unnamed: 35', axis=1)"
   ]
  },
  {
   "cell_type": "code",
   "execution_count": 4,
   "metadata": {},
   "outputs": [],
   "source": [
    "# Rename columns\n",
    "jour = jour.rename(columns={'aggregationType': 'type', 'creator': 'author_primary', 'author_names': 'coauthors', 'affilname': 'aff_name', \n",
    "                           'affiliation_city': 'aff_city', 'affiliation_country': 'aff_country', 'publicationName': 'publication_name', \n",
    "                           'pageRange': 'page_range', 'authkeywords': 'keywords', 'coverDate': 'cover_date', 'coverDisplayDate': 'cover_display_date',\n",
    "                           'fund_no': 'fund_type', 'openaccess': 'open_access'})\n",
    "# Reorganize columns, dropping subtype, eid, doi, pii, pubmed_id, afid, author_ids, author_afids, issn, source_id, eIssn, volume, issueIdentifier, article_number, fund_acr\n",
    "jour = jour[['title', 'type', 'author_primary', 'coauthors', 'author_count', 'aff_name', 'aff_city', 'aff_country', 'publication_name', 'page_range',\n",
    "             'keywords', 'description', 'cover_date', 'cover_display_date', 'fund_sponsor', 'fund_type', 'open_access', 'citedby_count','scopus_idx']]"
   ]
  },
  {
   "cell_type": "code",
   "execution_count": 5,
   "metadata": {},
   "outputs": [],
   "source": [
    "# Out clean journals as csv\n",
    "jour.to_csv(\"/mnt/labbook/input/clean_journals.csv\")"
   ]
  },
  {
   "cell_type": "code",
   "execution_count": 6,
   "metadata": {},
   "outputs": [],
   "source": [
    "# Get scopus\n",
    "scopus = pd.read_csv(\"/mnt/labbook/input/data/scopus.csv\", index_col=0, header=1)"
   ]
  },
  {
   "cell_type": "code",
   "execution_count": 7,
   "metadata": {},
   "outputs": [],
   "source": [
    "# Reset index\n",
    "scopus = scopus.reset_index(drop=True)\n",
    "# Drop Unnamed: 8 \n",
    "scopus = scopus.drop((x for x in ['Unnamed: 17', 'Unnamed: 18', 'Unnamed: 19']), axis=1)"
   ]
  },
  {
   "cell_type": "code",
   "execution_count": 8,
   "metadata": {},
   "outputs": [],
   "source": [
    "# Rename columns\n",
    "scopus = scopus.rename(columns={'name': 'first_middle_last', 'cited_by_count': 'citedby_count', 'scopus idx': 'scopus_idx'})\n",
    "# Reorganize columns, dropping scopus_id\n",
    "scopus = scopus[['first_middle_last', 'document_count', 'coauthor_count', 'citation_count', 'citedby_count', 'h_index','begin_publication_range',\n",
    "                'end_publication_range', 'aff_current_name_from_affid', 'aff_current_city_from_affid', 'aff_current_state_from_affid', \n",
    "                'aff_current_country_from_affid', 'aff_current_auth_count', 'aff_current_doc_count', 'scopus_idx']]"
   ]
  },
  {
   "cell_type": "code",
   "execution_count": 9,
   "metadata": {},
   "outputs": [],
   "source": [
    "# Out clean scopus as csv\n",
    "scopus.to_csv(\"/mnt/labbook/input/clean_scopus.csv\")"
   ]
  },
  {
   "cell_type": "code",
   "execution_count": 19,
   "metadata": {},
   "outputs": [
    {
     "name": "stderr",
     "output_type": "stream",
     "text": [
      "/opt/conda/lib/python3.7/site-packages/IPython/core/interactiveshell.py:3020: DtypeWarning: Columns (5,9,11,17,30,42,43,47,48) have mixed types. Specify dtype option on import or set low_memory=False.\n",
      "  interactivity=interactivity, compiler=compiler, result=result)\n"
     ]
    }
   ],
   "source": [
    "# Get ninds\n",
    "ninds = pd.read_csv(\"/mnt/labbook/input/data/ninds_scopus_idx.csv\", index_col=0)"
   ]
  },
  {
   "cell_type": "code",
   "execution_count": null,
   "metadata": {},
   "outputs": [],
   "source": [
    "# TO DO - clean ninds"
   ]
  },
  {
   "cell_type": "code",
   "execution_count": 20,
   "metadata": {},
   "outputs": [],
   "source": [
    "# Find missing values\n",
    "def find_missing_values(ninds, scopus):\n",
    "    ninds_idx = ninds[\"scopus idx\"]\n",
    "    scopus_idx = scopus[\"scopus_idx\"].unique()\n",
    "    missing_values = list(set(ninds_idx).difference(scopus_idx))\n",
    "    return missing_values"
   ]
  },
  {
   "cell_type": "code",
   "execution_count": 22,
   "metadata": {},
   "outputs": [
    {
     "name": "stdout",
     "output_type": "stream",
     "text": [
      "affiliations: 3858\n",
      "coauthors: 2217\n",
      "journals: 1897\n",
      "scopus: 1609\n"
     ]
    }
   ],
   "source": [
    "# Missing values\n",
    "print(\"affiliations:\", len(find_missing_values(ninds, aff)))\n",
    "print(\"coauthors:\", len(find_missing_values(ninds, coauth)))\n",
    "print(\"journals:\", len(find_missing_values(ninds, jour)))\n",
    "print(\"scopus:\", len(find_missing_values(ninds, scopus)))"
   ]
  }
 ],
 "metadata": {
  "kernelspec": {
   "display_name": "Python 3",
   "language": "python",
   "name": "python3"
  },
  "language_info": {
   "codemirror_mode": {
    "name": "ipython",
    "version": 3
   },
   "file_extension": ".py",
   "mimetype": "text/x-python",
   "name": "python",
   "nbconvert_exporter": "python",
   "pygments_lexer": "ipython3",
   "version": "3.7.2"
  }
 },
 "nbformat": 4,
 "nbformat_minor": 2
}
